{
  "cells": [
    {
      "cell_type": "markdown",
      "source": [
        "\n",
        "#Homework 5 - Question 1"
      ],
      "metadata": {
        "id": "DdkP4P5jrr2V"
      }
    },
    {
      "cell_type": "markdown",
      "source": [
        "The problem is to plan production in order to meet demand and maximize profit. There is a holding cost for units left in inventory for one period to the next. Inventory in a period cannot exceed the storage capacity. The inventory at the end of the planning horizon should be the same as the initial inventory."
      ],
      "metadata": {
        "id": "ZdBNU6UWr0c-"
      }
    },
    {
      "cell_type": "markdown",
      "source": [
        "**Step 1: Set up and import Gurobi**"
      ],
      "metadata": {
        "id": "aYec8ZTFu8eG"
      }
    },
    {
      "cell_type": "code",
      "source": [
        "# Install Gurobi\n",
        "!pip install gurobipy\n",
        "\n",
        "# Import the Gurobi Package\n",
        "import gurobipy as gp\n",
        "from gurobipy import GRB\n",
        "\n"
      ],
      "metadata": {
        "id": "iRai6bnHwABF",
        "colab": {
          "base_uri": "https://localhost:8080/"
        },
        "outputId": "bc105007-c4e6-4ce2-fff9-17c1a0c6dd89"
      },
      "execution_count": null,
      "outputs": [
        {
          "output_type": "stream",
          "name": "stdout",
          "text": [
            "Requirement already satisfied: gurobipy in /usr/local/lib/python3.10/dist-packages (10.0.3)\n"
          ]
        }
      ]
    },
    {
      "cell_type": "markdown",
      "source": [
        "**Step 2: Read Excel Data**"
      ],
      "metadata": {
        "id": "h3wqdKyZXCAJ"
      }
    },
    {
      "cell_type": "code",
      "execution_count": null,
      "metadata": {
        "id": "lIYdn1woOS1n"
      },
      "outputs": [],
      "source": [
        "from openpyxl import load_workbook\n",
        "\n",
        "# Read worksheets from spreadsheet\n",
        "wb = load_workbook(\"production_planning_data.xlsx\")\n",
        "ws = wb[\"Data\"]\n",
        "\n",
        "# Create list with periods\n",
        "periods = [ws.cell(r,1).value for r in range(2,ws.max_row + 1)]\n",
        "\n",
        "# Create a dictionary for the capacities\n",
        "capacity = {ws.cell(r,1).value: ws.cell(r,2).value\n",
        "     for r in range(2,ws.max_row + 1)\n",
        "}\n",
        "\n",
        "# Create a dictionary for the demands\n",
        "demand = {ws.cell(r,1).value: ws.cell(r,3).value\n",
        "     for r in range(2,ws.max_row + 1)\n",
        "}\n",
        "\n",
        "# Create a dictionary for the costs\n",
        "cost = {ws.cell(r,1).value: ws.cell(r,4).value\n",
        "        for r in range(2,ws.max_row + 1)\n",
        "}\n",
        "\n",
        "# Create a dictionary for the prices\n",
        "price = {ws.cell(r,1).value: ws.cell(r,5).value\n",
        "     for r in range(2,ws.max_row + 1)\n",
        "}"
      ]
    },
    {
      "cell_type": "code",
      "source": [
        "print(periods)"
      ],
      "metadata": {
        "colab": {
          "base_uri": "https://localhost:8080/"
        },
        "id": "5n4HangFCmzw",
        "outputId": "5e3ae002-cb58-44ac-caa0-c0ffcdc81ff2"
      },
      "execution_count": null,
      "outputs": [
        {
          "output_type": "stream",
          "name": "stdout",
          "text": [
            "[1, 2, 3, 4, 5, 6, 7, 8, 9, 10, 11, 12, 13, 14, 15, 16, 17, 18, 19, 20, 21, 22, 23, 24, 25]\n"
          ]
        }
      ]
    },
    {
      "cell_type": "code",
      "source": [
        "print(capacity)"
      ],
      "metadata": {
        "colab": {
          "base_uri": "https://localhost:8080/"
        },
        "id": "fn0-wk0qCs-q",
        "outputId": "876b726b-2d99-4fc0-9dc7-ba5149aa5d64"
      },
      "execution_count": null,
      "outputs": [
        {
          "output_type": "stream",
          "name": "stdout",
          "text": [
            "{1: 1920, 2: 1532, 3: 1667, 4: 1412, 5: 1240, 6: 1797, 7: 1999, 8: 1435, 9: 1329, 10: 1466, 11: 1076, 12: 1877, 13: 1772, 14: 2014, 15: 1539, 16: 2377, 17: 2979, 18: 2755, 19: 1654, 20: 1942, 21: 2148, 22: 1976, 23: 2189, 24: 1820, 25: 2727}\n"
          ]
        }
      ]
    },
    {
      "cell_type": "code",
      "source": [
        "print(demand)"
      ],
      "metadata": {
        "colab": {
          "base_uri": "https://localhost:8080/"
        },
        "id": "Q6VLGEf_CvxL",
        "outputId": "62557856-9f84-4a4c-ccca-0a042205583d"
      },
      "execution_count": null,
      "outputs": [
        {
          "output_type": "stream",
          "name": "stdout",
          "text": [
            "{1: 1146, 2: 2045, 3: 1502, 4: 2464, 5: 1503, 6: 2264, 7: 2258, 8: 2470, 9: 1785, 10: 1958, 11: 1328, 12: 1205, 13: 1626, 14: 1123, 15: 2452, 16: 1573, 17: 1353, 18: 1871, 19: 1563, 20: 1857, 21: 1531, 22: 1165, 23: 1325, 24: 2325, 25: 1321}\n"
          ]
        }
      ]
    },
    {
      "cell_type": "code",
      "source": [
        "print(cost)"
      ],
      "metadata": {
        "colab": {
          "base_uri": "https://localhost:8080/"
        },
        "id": "aKOO4QzoCxeZ",
        "outputId": "829795e8-c2cd-4db3-b52f-53cd69b12e1b"
      },
      "execution_count": null,
      "outputs": [
        {
          "output_type": "stream",
          "name": "stdout",
          "text": [
            "{1: 39, 2: 38, 3: 59, 4: 38, 5: 53, 6: 48, 7: 54, 8: 59, 9: 55, 10: 48, 11: 41, 12: 27, 13: 29, 14: 59, 15: 45, 16: 36, 17: 45, 18: 49, 19: 26, 20: 21, 21: 53, 22: 42, 23: 21, 24: 40, 25: 25}\n"
          ]
        }
      ]
    },
    {
      "cell_type": "code",
      "source": [
        "print(price)"
      ],
      "metadata": {
        "colab": {
          "base_uri": "https://localhost:8080/"
        },
        "id": "d__EQ29lCzBc",
        "outputId": "f93f30f5-f810-4775-e82c-70a2d4d66187"
      },
      "execution_count": null,
      "outputs": [
        {
          "output_type": "stream",
          "name": "stdout",
          "text": [
            "{1: 89, 2: 74, 3: 64, 4: 95, 5: 61, 6: 82, 7: 63, 8: 69, 9: 71, 10: 84, 11: 83, 12: 98, 13: 63, 14: 93, 15: 79, 16: 99, 17: 86, 18: 63, 19: 65, 20: 77, 21: 80, 22: 81, 23: 88, 24: 81, 25: 63}\n"
          ]
        }
      ]
    },
    {
      "cell_type": "markdown",
      "source": [
        "**Step 3: Set up the Linear Programming Model**"
      ],
      "metadata": {
        "id": "o0GWYfBUvYpB"
      }
    },
    {
      "cell_type": "code",
      "source": [
        "# Create a Gurobi model\n",
        "m = gp.Model(\"Plan_Production\")\n",
        "\n",
        "# Define the decision variables\n",
        "x = m.addVars(periods,name='Production')\n",
        "y = m.addVars(periods,name='Inventory')\n",
        "z = m.addVars(periods,name='Sales')\n",
        "\n",
        "# Define the objective function\n",
        "m.setObjective(sum((z[j]*price[j])-(x[j]*cost[j])-(y[j]*5) for j in periods), sense=GRB.MAXIMIZE)\n",
        "\n",
        "# Define the constraints\n",
        "\n",
        "m.addConstrs(x[i] <= capacity[i] for i in periods)\n",
        "m.addConstrs(y[i] <= 500 for i in periods)\n",
        "m.addConstrs(z[i] <= demand[i] for i in periods)\n",
        "\n",
        "m.addConstrs(y[i] == 500 + x[i] - z[i] if i==1 else y[i] == y[i-1] + x[i] - z[i] for i in periods)\n",
        "m.addConstrs(y[25] == 500 for i in periods)\n",
        "\n",
        "#m.addConstrs(x[i] >= 0 for i in periods)\n",
        "#m.addConstrs(y[i] >= 0 for i in periods)\n"
      ],
      "metadata": {
        "id": "o3kN_bknwXUW",
        "colab": {
          "base_uri": "https://localhost:8080/"
        },
        "outputId": "6808c610-fa08-4b6a-bc1c-1f6a221ec56c"
      },
      "execution_count": null,
      "outputs": [
        {
          "output_type": "execute_result",
          "data": {
            "text/plain": [
              "{1: <gurobi.Constr *Awaiting Model Update*>,\n",
              " 2: <gurobi.Constr *Awaiting Model Update*>,\n",
              " 3: <gurobi.Constr *Awaiting Model Update*>,\n",
              " 4: <gurobi.Constr *Awaiting Model Update*>,\n",
              " 5: <gurobi.Constr *Awaiting Model Update*>,\n",
              " 6: <gurobi.Constr *Awaiting Model Update*>,\n",
              " 7: <gurobi.Constr *Awaiting Model Update*>,\n",
              " 8: <gurobi.Constr *Awaiting Model Update*>,\n",
              " 9: <gurobi.Constr *Awaiting Model Update*>,\n",
              " 10: <gurobi.Constr *Awaiting Model Update*>,\n",
              " 11: <gurobi.Constr *Awaiting Model Update*>,\n",
              " 12: <gurobi.Constr *Awaiting Model Update*>,\n",
              " 13: <gurobi.Constr *Awaiting Model Update*>,\n",
              " 14: <gurobi.Constr *Awaiting Model Update*>,\n",
              " 15: <gurobi.Constr *Awaiting Model Update*>,\n",
              " 16: <gurobi.Constr *Awaiting Model Update*>,\n",
              " 17: <gurobi.Constr *Awaiting Model Update*>,\n",
              " 18: <gurobi.Constr *Awaiting Model Update*>,\n",
              " 19: <gurobi.Constr *Awaiting Model Update*>,\n",
              " 20: <gurobi.Constr *Awaiting Model Update*>,\n",
              " 21: <gurobi.Constr *Awaiting Model Update*>,\n",
              " 22: <gurobi.Constr *Awaiting Model Update*>,\n",
              " 23: <gurobi.Constr *Awaiting Model Update*>,\n",
              " 24: <gurobi.Constr *Awaiting Model Update*>,\n",
              " 25: <gurobi.Constr *Awaiting Model Update*>}"
            ]
          },
          "metadata": {},
          "execution_count": 114
        }
      ]
    },
    {
      "cell_type": "markdown",
      "source": [
        "**Step 4: Solve the Model and Display Output**"
      ],
      "metadata": {
        "id": "ED7WIZHbvwNu"
      }
    },
    {
      "cell_type": "code",
      "source": [
        "# Solve the model\n",
        "m.optimize()\n",
        "\n",
        "# Display the results\n",
        "print(f\"Maximum Profit: ${m.ObjVal:.2f}\")\n",
        "\n",
        "# Display the optimal production and inventory levels in each period\n",
        "for i in periods:\n",
        "  print(f\"In Period {i}, demand met for {z[i].x} units by producing {x[i].x} units and storing {y[i].x} units in inventory at the end the period.\" )\n"
      ],
      "metadata": {
        "id": "vgvqlxNUwvTx",
        "colab": {
          "base_uri": "https://localhost:8080/"
        },
        "outputId": "22c4ae01-90c2-4779-a7ff-299111c794ae"
      },
      "execution_count": null,
      "outputs": [
        {
          "output_type": "stream",
          "name": "stdout",
          "text": [
            "Gurobi Optimizer version 10.0.3 build v10.0.3rc0 (linux64)\n",
            "\n",
            "CPU model: Intel(R) Xeon(R) CPU @ 2.20GHz, instruction set [SSE2|AVX|AVX2]\n",
            "Thread count: 1 physical cores, 2 logical processors, using up to 2 threads\n",
            "\n",
            "Optimize a model with 125 rows, 75 columns and 199 nonzeros\n",
            "Model fingerprint: 0xad7b905e\n",
            "Coefficient statistics:\n",
            "  Matrix range     [1e+00, 1e+00]\n",
            "  Objective range  [5e+00, 1e+02]\n",
            "  Bounds range     [0e+00, 0e+00]\n",
            "  RHS range        [5e+02, 3e+03]\n",
            "Presolve removed 115 rows and 49 columns\n",
            "Presolve time: 0.01s\n",
            "Presolved: 10 rows, 26 columns, 31 nonzeros\n",
            "\n",
            "Iteration    Objective       Primal Inf.    Dual Inf.      Time\n",
            "       0    1.9456962e+06   1.460303e+03   0.000000e+00      0s\n",
            "      11    1.3979930e+06   0.000000e+00   0.000000e+00      0s\n",
            "\n",
            "Solved in 11 iterations and 0.02 seconds (0.00 work units)\n",
            "Optimal objective  1.397993000e+06\n",
            "Maximum Profit: $1397993.00\n",
            "In Period 1, demand met for 1146.0 units by producing 1146.0 units and storing 500.0 units in inventory at the end the period.\n",
            "In Period 2, demand met for 2032.0 units by producing 1532.0 units and storing 0.0 units in inventory at the end the period.\n",
            "In Period 3, demand met for 1167.0 units by producing 1667.0 units and storing 500.0 units in inventory at the end the period.\n",
            "In Period 4, demand met for 1912.0 units by producing 1412.0 units and storing 0.0 units in inventory at the end the period.\n",
            "In Period 5, demand met for 773.0 units by producing 1240.0 units and storing 467.0 units in inventory at the end the period.\n",
            "In Period 6, demand met for 2264.0 units by producing 1797.0 units and storing 0.0 units in inventory at the end the period.\n",
            "In Period 7, demand met for 1499.0 units by producing 1999.0 units and storing 500.0 units in inventory at the end the period.\n",
            "In Period 8, demand met for 1935.0 units by producing 1435.0 units and storing 0.0 units in inventory at the end the period.\n",
            "In Period 9, demand met for 829.0 units by producing 1329.0 units and storing 500.0 units in inventory at the end the period.\n",
            "In Period 10, demand met for 1958.0 units by producing 1466.0 units and storing 8.0 units in inventory at the end the period.\n",
            "In Period 11, demand met for 1084.0 units by producing 1076.0 units and storing 0.0 units in inventory at the end the period.\n",
            "In Period 12, demand met for 1205.0 units by producing 1559.0 units and storing 354.0 units in inventory at the end the period.\n",
            "In Period 13, demand met for 1626.0 units by producing 1772.0 units and storing 500.0 units in inventory at the end the period.\n",
            "In Period 14, demand met for 1123.0 units by producing 1123.0 units and storing 500.0 units in inventory at the end the period.\n",
            "In Period 15, demand met for 2039.0 units by producing 1539.0 units and storing 0.0 units in inventory at the end the period.\n",
            "In Period 16, demand met for 1573.0 units by producing 2073.0 units and storing 500.0 units in inventory at the end the period.\n",
            "In Period 17, demand met for 1353.0 units by producing 853.0 units and storing 0.0 units in inventory at the end the period.\n",
            "In Period 18, demand met for 1871.0 units by producing 1871.0 units and storing 0.0 units in inventory at the end the period.\n",
            "In Period 19, demand met for 1563.0 units by producing 1654.0 units and storing 91.0 units in inventory at the end the period.\n",
            "In Period 20, demand met for 1857.0 units by producing 1942.0 units and storing 176.0 units in inventory at the end the period.\n",
            "In Period 21, demand met for 1531.0 units by producing 1355.0 units and storing 0.0 units in inventory at the end the period.\n",
            "In Period 22, demand met for 1165.0 units by producing 1165.0 units and storing 0.0 units in inventory at the end the period.\n",
            "In Period 23, demand met for 1325.0 units by producing 1825.0 units and storing 500.0 units in inventory at the end the period.\n",
            "In Period 24, demand met for 2320.0 units by producing 1820.0 units and storing 0.0 units in inventory at the end the period.\n",
            "In Period 25, demand met for 1321.0 units by producing 1821.0 units and storing 500.0 units in inventory at the end the period.\n"
          ]
        }
      ]
    }
  ],
  "metadata": {
    "colab": {
      "provenance": []
    },
    "kernelspec": {
      "display_name": "Python 3",
      "name": "python3"
    }
  },
  "nbformat": 4,
  "nbformat_minor": 0
}