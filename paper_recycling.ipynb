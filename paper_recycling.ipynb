{
  "cells": [
    {
      "cell_type": "markdown",
      "metadata": {
        "id": "101c4628"
      },
      "source": [
        "## Paper recycling\n",
        "A paper recycling company converts newspaper, mixed paper, white office paper, and cardboard into pulp for newsprint, packaging paper, and print stock quality paper. The following table summarizes the yield for each kind of pulp recovered from each ton of recycled material and the cost of processing each ton of raw material into the various types of pulp."
      ]
    },
    {
      "cell_type": "markdown",
      "source": [
        "**Step 1: Set up and import Gurobi**"
      ],
      "metadata": {
        "id": "aYec8ZTFu8eG"
      }
    },
    {
      "cell_type": "code",
      "source": [
        "# Install Gurobi\n",
        "!pip install gurobipy\n",
        "from typing import List\n",
        "\n",
        "# Import the Gurobi Package\n",
        "import gurobipy as gp\n",
        "from gurobipy import GRB"
      ],
      "metadata": {
        "id": "iRai6bnHwABF",
        "colab": {
          "base_uri": "https://localhost:8080/"
        },
        "outputId": "c8aff342-8f81-45f3-b3f1-acfb1b43d69d"
      },
      "execution_count": null,
      "outputs": [
        {
          "output_type": "stream",
          "name": "stdout",
          "text": [
            "Collecting gurobipy\n",
            "  Downloading gurobipy-10.0.3-cp310-cp310-manylinux2014_x86_64.whl (12.7 MB)\n",
            "\u001b[2K     \u001b[90m━━━━━━━━━━━━━━━━━━━━━━━━━━━━━━━━━━━━━━━━\u001b[0m \u001b[32m12.7/12.7 MB\u001b[0m \u001b[31m84.3 MB/s\u001b[0m eta \u001b[36m0:00:00\u001b[0m\n",
            "\u001b[?25hInstalling collected packages: gurobipy\n",
            "Successfully installed gurobipy-10.0.3\n"
          ]
        }
      ]
    },
    {
      "cell_type": "markdown",
      "source": [
        "**Step 2: Data Entry**"
      ],
      "metadata": {
        "id": "h3wqdKyZXCAJ"
      }
    },
    {
      "cell_type": "code",
      "source": [
        "# Specify input data\n",
        "materials, purchase_cost, availability = gp.multidict ({\n",
        "    'Newspaper'          : [15, 600],\n",
        "    'Mixed paper'        : [16, 500],\n",
        "    'White office paper' : [19, 300],\n",
        "    'Cardboard'          : [17, 400]})\n",
        "\n",
        "products, product_demand = gp.multidict ({\n",
        "    'Newsprint'   : 500,\n",
        "    'Packaging'   : 600,\n",
        "    'Print stock' : 300})\n",
        "\n",
        "material_product_pairs, recycling_yield, processing_cost = gp.multidict ({\n",
        "    ('Newspaper', 'Newsprint')            : [0.85,  6.50],\n",
        "    ('Newspaper', 'Packaging')            : [0.80, 11.00],\n",
        "    ('Mixed paper', 'Newsprint')          : [0.90,  9.75],\n",
        "    ('Mixed paper', 'Packaging')          : [0.80, 12.25],\n",
        "    ('Mixed paper', 'Print stock')        : [0.70,  9.50],\n",
        "    ('White office paper', 'Newsprint')   : [0.90,  4.75],\n",
        "    ('White office paper', 'Packaging')   : [0.85,  7.75],\n",
        "    ('White office paper', 'Print stock') : [0.80,  8.50],\n",
        "    ('Cardboard', 'Newsprint')            : [0.80,  7.50],\n",
        "    ('Cardboard', 'Packaging')            : [0.70,  8.50]})"
      ],
      "metadata": {
        "id": "dgAMq0l9Xm-Z"
      },
      "execution_count": null,
      "outputs": []
    },
    {
      "cell_type": "markdown",
      "source": [
        "**Step 3: Set up the Linear Programming Model**"
      ],
      "metadata": {
        "id": "o0GWYfBUvYpB"
      }
    },
    {
      "cell_type": "code",
      "source": [
        "# Create a Gurobi model\n",
        "m = gp.Model(\"Paper_recycling\")\n",
        "\n",
        "# Define the decision variables\n",
        "x = m.addVars(material_product_pairs,name='Material_Product_pairs')\n",
        "\n",
        "# Define the objective function\n",
        "m.setObjective(sum((purchase_cost[i] + processing_cost[i,j]) * x[i,j] for i,j in material_product_pairs), sense=GRB.MINIMIZE)\n",
        "\n",
        "# Define the constraints\n",
        "m.addConstrs(sum(x[i,j] for j in products if (i,j) in material_product_pairs) <= availability[i] for i in materials)\n",
        "\n",
        "m.addConstrs(sum(recycling_yield[i,j] * x[i,j] for i in materials if (i,j) in material_product_pairs) >= product_demand[j] for j in products)\n",
        "\n",
        "\n"
      ],
      "metadata": {
        "id": "o3kN_bknwXUW",
        "colab": {
          "base_uri": "https://localhost:8080/"
        },
        "outputId": "cac71a70-ffeb-42e8-bd8c-2fd26b5a304b"
      },
      "execution_count": 15,
      "outputs": [
        {
          "output_type": "execute_result",
          "data": {
            "text/plain": [
              "{'Newsprint': <gurobi.Constr *Awaiting Model Update*>,\n",
              " 'Packaging': <gurobi.Constr *Awaiting Model Update*>,\n",
              " 'Print stock': <gurobi.Constr *Awaiting Model Update*>}"
            ]
          },
          "metadata": {},
          "execution_count": 15
        }
      ]
    },
    {
      "cell_type": "markdown",
      "source": [
        "**Step 4: Solve the Model and Display Output**"
      ],
      "metadata": {
        "id": "ED7WIZHbvwNu"
      }
    },
    {
      "cell_type": "code",
      "source": [
        "# Solve the model\n",
        "m.optimize()\n",
        "\n",
        "# Display the results\n",
        "print(f\"Minimum Cost: ${m.objVal:.2f}\")\n",
        "\n",
        "for i,j in material_product_pairs:\n",
        "    print(f\"{x[i,j].x:.2f} tons of {i} is processed to produce {j}.\")\n"
      ],
      "metadata": {
        "id": "vgvqlxNUwvTx",
        "colab": {
          "base_uri": "https://localhost:8080/"
        },
        "outputId": "ded9fe01-3af4-4ab8-f5a3-a0ca616bdedb"
      },
      "execution_count": 16,
      "outputs": [
        {
          "output_type": "stream",
          "name": "stdout",
          "text": [
            "Gurobi Optimizer version 10.0.3 build v10.0.3rc0 (linux64)\n",
            "\n",
            "CPU model: AMD EPYC 7B12, instruction set [SSE2|AVX|AVX2]\n",
            "Thread count: 1 physical cores, 2 logical processors, using up to 2 threads\n",
            "\n",
            "Optimize a model with 7 rows, 10 columns and 20 nonzeros\n",
            "Model fingerprint: 0xb1e3ed65\n",
            "Coefficient statistics:\n",
            "  Matrix range     [7e-01, 1e+00]\n",
            "  Objective range  [2e+01, 3e+01]\n",
            "  Bounds range     [0e+00, 0e+00]\n",
            "  RHS range        [3e+02, 6e+02]\n",
            "Presolve time: 0.01s\n",
            "Presolved: 7 rows, 10 columns, 20 nonzeros\n",
            "\n",
            "Iteration    Objective       Primal Inf.    Dual Inf.      Time\n",
            "       0    0.0000000e+00   1.400000e+03   0.000000e+00      0s\n",
            "       7    4.4067737e+04   0.000000e+00   0.000000e+00      0s\n",
            "\n",
            "Solved in 7 iterations and 0.02 seconds (0.00 work units)\n",
            "Optimal objective  4.406773709e+04\n",
            "Minimum Cost: $44067.74\n",
            "588.24 tons of Newspaper is processed to produce Newsprint.\n",
            "11.76 tons of Newspaper is processed to produce Packaging.\n",
            "0.00 tons of Mixed paper is processed to produce Newsprint.\n",
            "71.43 tons of Mixed paper is processed to produce Packaging.\n",
            "428.57 tons of Mixed paper is processed to produce Print stock.\n",
            "0.00 tons of White office paper is processed to produce Newsprint.\n",
            "300.00 tons of White office paper is processed to produce Packaging.\n",
            "0.00 tons of White office paper is processed to produce Print stock.\n",
            "0.00 tons of Cardboard is processed to produce Newsprint.\n",
            "397.78 tons of Cardboard is processed to produce Packaging.\n"
          ]
        }
      ]
    }
  ],
  "metadata": {
    "colab": {
      "provenance": []
    },
    "kernelspec": {
      "display_name": "Python 3",
      "name": "python3"
    }
  },
  "nbformat": 4,
  "nbformat_minor": 0
}